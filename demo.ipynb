{
 "cells": [
  {
   "cell_type": "code",
   "execution_count": 5,
   "metadata": {},
   "outputs": [],
   "source": [
    "import datetime as dt\n",
    "import os\n",
    "import pandas as pd\n",
    "from facebook_scraper import get_posts\n",
    "\n",
    "from decouple import AutoConfig\n",
    "\n",
    "config = AutoConfig('/home/zachlim/Documents/Github/BilahariBot')\n",
    "\n",
    "API_USERNAME = config('USERNAME')\n",
    "API_KEY = config('SECRET_KEY')"
   ]
  },
  {
   "cell_type": "code",
   "execution_count": null,
   "metadata": {},
   "outputs": [
    {
     "name": "stdout",
     "output_type": "stream",
     "text": [
      "{'post_id': '3334284803495592', 'text': 'SUPCHINA.COM\\nBeijing wants a million new SMEs – SupChina', 'post_text': '', 'shared_text': 'SUPCHINA.COM\\nBeijing wants a million new SMEs – SupChina', 'original_text': None, 'time': datetime.datetime(2022, 6, 8, 7, 54, 43), 'timestamp': None, 'image': 'https://supchina.com/wp-content/uploads/2022/06/ChinaEDGE-SupChina-06.07.2022-SMEs-scaled.jpg', 'image_lowquality': 'https://external.fsin4-1.fna.fbcdn.net/safe_image.php?w=476&h=249&url=https%3A%2F%2Fsupchina.com%2Fwp-content%2Fuploads%2F2022%2F06%2FChinaEDGE-SupChina-06.07.2022-SMEs-scaled.jpg&cfs=1&jq=75&ext=jpg&_nc_eui2=AeFLXLq4Zl1GATZyxmC7t2TX5PkgQeZqtDPk-SBB5mq0Mxf9YxFzvGy-yGv41guIOAc&utld=supchina.com&_nc_oe=703de&_nc_sid=505865&_nc_o2e=1&ccb=3-6&_nc_hash=AQEVJdcd9Bh-Xrn4', 'images': ['https://supchina.com/wp-content/uploads/2022/06/ChinaEDGE-SupChina-06.07.2022-SMEs-scaled.jpg'], 'images_description': [], 'images_lowquality': ['https://external.fsin4-1.fna.fbcdn.net/safe_image.php?w=476&h=249&url=https%3A%2F%2Fsupchina.com%2Fwp-content%2Fuploads%2F2022%2F06%2FChinaEDGE-SupChina-06.07.2022-SMEs-scaled.jpg&cfs=1&jq=75&ext=jpg&_nc_eui2=AeFLXLq4Zl1GATZyxmC7t2TX5PkgQeZqtDPk-SBB5mq0Mxf9YxFzvGy-yGv41guIOAc&utld=supchina.com&_nc_oe=703de&_nc_sid=505865&_nc_o2e=1&ccb=3-6&_nc_hash=AQEVJdcd9Bh-Xrn4'], 'images_lowquality_description': [None], 'video': None, 'video_duration_seconds': None, 'video_height': None, 'video_id': None, 'video_quality': None, 'video_size_MB': None, 'video_thumbnail': None, 'video_watches': None, 'video_width': None, 'likes': 12, 'comments': 2, 'shares': 3, 'post_url': 'https://facebook.com/bilahari.kausikan/posts/3334284803495592', 'link': 'https://supchina.com/2022/06/07/beijing-wants-a-million-new-smes/?fbclid=IwAR1hhrJoMFIOat9sG5gnXCAzlt-VFPa7RSz_EG-jI_wVokm3BXokGRUwPAY', 'links': [], 'user_id': '100007423144773', 'username': 'Bilahari Kausikan', 'user_url': 'https://facebook.com/bilahari.kausikan?lst=1415962411%3A100007423144773%3A1654685681&refid=17&_ft_=qid.-6194702315762330273%3Amf_story_key.3334284803495592%3Atop_level_post_id.3334284803495592%3Atl_objid.3334284803495592%3Acontent_owner_id_new.100007423144773%3Athrowback_story_fbid.3334284803495592%3Astory_location.4%3Astory_attachment_style.share%3Asty.22%3Aent_attachement_type.ExternalShareAttachment%3Aapp_id.1433711693599501%3Apos.1%3Aprofile_id.100007423144773%3Aprofile_relationship_type.4%3Aactrs.100007423144773%3Athid.100007423144773%3A306061129499414%3A2%3A0%3A1656658799%3A-1199797456612966156%3A%3A%3Aftmd_400706.111111l&__tn__=C-R', 'is_live': False, 'factcheck': None, 'shared_post_id': None, 'shared_time': None, 'shared_user_id': None, 'shared_username': None, 'shared_post_url': None, 'available': True, 'comments_full': None, 'reactors': None, 'w3_fb_url': None, 'reactions': None, 'reaction_count': None, 'with': None, 'page_id': None, 'sharers': None, 'image_id': None, 'image_ids': [], 'was_live': False}\n"
     ]
    },
    {
     "name": "stderr",
     "output_type": "stream",
     "text": [
      "/home/zachlim/anaconda3/envs/bilbot/lib/python3.10/site-packages/dateparser/date_parser.py:35: PytzUsageWarning: The localize method is no longer necessary, as this time zone supports the fold attribute (PEP 495). For more details on migrating to a PEP 495-compliant implementation, see https://pytz-deprecation-shim.readthedocs.io/en/latest/migration.html\n",
      "  date_obj = stz.localize(date_obj)\n"
     ]
    },
    {
     "name": "stdout",
     "output_type": "stream",
     "text": [
      "{'post_id': '3334272023496870', 'text': \"A frog Illustration from the 'Meika gafu' (名家画譜), 1814 (Bunka 11), “A Book of Paintings by Celebrated Artists”, an encyclopaedia - in woodblock form - of the “who’s who’ in Japanese art, published by Tōhekido (Eirakuya Tōshirō, 永楽屋東四郎) of Nagoya.\\n\\nBy the way, if you like the image, it is possible to purchase a reprint of the picture from the excellent British Museum online shop!\", 'post_text': \"A frog Illustration from the 'Meika gafu' (名家画譜), 1814 (Bunka 11), “A Book of Paintings by Celebrated Artists”, an encyclopaedia - in woodblock form - of the “who’s who’ in Japanese art, published by Tōhekido (Eirakuya Tōshirō, 永楽屋東四郎) of Nagoya.\\n\\nBy the way, if you like the image, it is possible to purchase a reprint of the picture from the excellent British Museum online shop!\", 'shared_text': '', 'original_text': None, 'time': datetime.datetime(2022, 6, 8, 7, 54, 45), 'timestamp': None, 'image': 'https://scontent.fsin4-1.fna.fbcdn.net/v/t39.30808-6/285602754_4651682284931870_1922096897267544290_n.jpg?stp=cp0_dst-jpg_e15_fr_q65&_nc_cat=100&ccb=1-7&_nc_sid=8024bb&efg=eyJpIjoidCJ9&_nc_eui2=AeFAezgWYubW9qJsnTOmSvdNg5hXyn7dXuiDmFfKft1e6BEm37NG3uXfXLodS5YYO4E&_nc_ohc=xN3cxsS4DjAAX_5qy-5&tn=rVefr_R5iubaYIAf&_nc_ht=scontent.fsin4-1.fna&oh=00_AT-T3IPNMa_kvOCBbzKoxsWgv1_HYaHt_IjBZDIuxfmOUw&oe=62A48EB6', 'image_lowquality': 'https://scontent.fsin4-1.fna.fbcdn.net/v/t39.30808-6/285602754_4651682284931870_1922096897267544290_n.jpg?stp=cp0_dst-jpg_e15_p320x320_q65&_nc_cat=100&ccb=1-7&_nc_sid=8024bb&efg=eyJpIjoidCJ9&_nc_eui2=AeFAezgWYubW9qJsnTOmSvdNg5hXyn7dXuiDmFfKft1e6BEm37NG3uXfXLodS5YYO4E&_nc_ohc=xN3cxsS4DjAAX_5qy-5&tn=rVefr_R5iubaYIAf&_nc_ht=scontent.fsin4-1.fna&oh=00_AT_pCqygjiLvUKGF9THopLOlvu59CTBFqMtheqZT2YHRaw&oe=62A48EB6', 'images': ['https://scontent.fsin4-1.fna.fbcdn.net/v/t39.30808-6/285602754_4651682284931870_1922096897267544290_n.jpg?stp=cp0_dst-jpg_e15_fr_q65&_nc_cat=100&ccb=1-7&_nc_sid=8024bb&efg=eyJpIjoidCJ9&_nc_eui2=AeFAezgWYubW9qJsnTOmSvdNg5hXyn7dXuiDmFfKft1e6BEm37NG3uXfXLodS5YYO4E&_nc_ohc=xN3cxsS4DjAAX_5qy-5&tn=rVefr_R5iubaYIAf&_nc_ht=scontent.fsin4-1.fna&oh=00_AT-T3IPNMa_kvOCBbzKoxsWgv1_HYaHt_IjBZDIuxfmOUw&oe=62A48EB6'], 'images_description': ['No photo description available.'], 'images_lowquality': ['https://scontent.fsin4-1.fna.fbcdn.net/v/t39.30808-6/285602754_4651682284931870_1922096897267544290_n.jpg?stp=cp0_dst-jpg_e15_p320x320_q65&_nc_cat=100&ccb=1-7&_nc_sid=8024bb&efg=eyJpIjoidCJ9&_nc_eui2=AeFAezgWYubW9qJsnTOmSvdNg5hXyn7dXuiDmFfKft1e6BEm37NG3uXfXLodS5YYO4E&_nc_ohc=xN3cxsS4DjAAX_5qy-5&tn=rVefr_R5iubaYIAf&_nc_ht=scontent.fsin4-1.fna&oh=00_AT_pCqygjiLvUKGF9THopLOlvu59CTBFqMtheqZT2YHRaw&oe=62A48EB6'], 'images_lowquality_description': ['No photo description available.'], 'video': None, 'video_duration_seconds': None, 'video_height': None, 'video_id': None, 'video_quality': None, 'video_size_MB': None, 'video_thumbnail': None, 'video_watches': None, 'video_width': None, 'likes': 4, 'comments': 0, 'shares': 1, 'post_url': 'https://facebook.com/bilahari.kausikan/posts/3334272023496870', 'link': None, 'links': [{'link': '/story.php?story_fbid=pfbid02Yq3dojFM6RiX7MbkV5kJTuFuamzReuteNgkBLTfPLbJqKJqbRgAf5RcNUVnA4xntl&id=301553813278094&refid=17', 'text': 'More'}], 'user_id': '100007423144773', 'username': 'Bilahari Kausikan', 'user_url': 'https://facebook.com/bilahari.kausikan?lst=1415962411%3A100007423144773%3A1654685681&refid=17&_ft_=qid.-6194702315776278340%3Amf_story_key.3334272023496870%3Atop_level_post_id.3334272023496870%3Atl_objid.3334272023496870%3Acontent_owner_id_new.100007423144773%3Aoriginal_content_id.4651682438265188%3Aoriginal_content_owner_id.301553813278094%3Athrowback_story_fbid.3334272023496870%3Apage_id.301553813278094%3Aphoto_id.4651682288265203%3Astory_location.4%3Aattached_story_attachment_style.photo%3Aott.AX_HRKW4HEzr6dFL%3Asty.22%3Aapp_id.6628568379%3Aattached_story_type.EntStatusCreationStory%3Aattached_story_attachment_type.MediaAttachment%3Apos.1%3Apage_insights.%7B%22301553813278094%22%3A%7B%22page_id%22%3A301553813278094%2C%22page_id_type%22%3A%22page%22%2C%22actor_id%22%3A100007423144773%2C%22attached_story%22%3A%7B%22page_id%22%3A301553813278094%2C%22page_id_type%22%3A%22page%22%2C%22actor_id%22%3A301553813278094%2C%22dm%22%3A%7B%22isShare%22%3A0%2C%22originalPostOwnerID%22%3A0%7D%2C%22psn%22%3A%22EntStatusCreationStory%22%2C%22post_context%22%3A%7B%22object_fbtype%22%3A266%2C%22publish_time%22%3A1654305838%2C%22story_name%22%3A%22EntStatusCreationStory%22%2C%22story_fbid%22%3A%5B4651682438265188%5D%7D%2C%22role%22%3A1%2C%22sl%22%3A4%7D%2C%22dm%22%3A%7B%22isShare%22%3A0%2C%22originalPostOwnerID%22%3A0%7D%2C%22psn%22%3A%22EntStatusCreationStory%22%2C%22role%22%3A1%2C%22sl%22%3A4%2C%22targets%22%3A%5B%7B%22actor_id%22%3A100007423144773%2C%22page_id%22%3A301553813278094%2C%22post_id%22%3A4651682438265188%2C%22role%22%3A1%2C%22share_id%22%3A0%7D%5D%7D%7D%3Aprofile_id.100007423144773%3Aprofile_relationship_type.4%3Aactrs.100007423144773%3Atds_flgs.3%3Athid.100007423144773%3A306061129499414%3A2%3A0%3A1656658799%3A1874053958918377636%3A%3A%3Aftmd_400706.111111l&__tn__=C-R', 'is_live': False, 'factcheck': None, 'shared_post_id': '4651682438265188', 'shared_time': datetime.datetime(2022, 6, 4, 7, 15), 'shared_user_id': '301553813278094', 'shared_username': 'Jaded in Japan', 'shared_post_url': 'https://facebook.com/story.php?story_fbid=pfbid02Yq3dojFM6RiX7MbkV5kJTuFuamzReuteNgkBLTfPLbJqKJqbRgAf5RcNUVnA4xntl&id=301553813278094', 'available': True, 'comments_full': None, 'reactors': None, 'w3_fb_url': None, 'reactions': None, 'reaction_count': None, 'with': [{'name': 'Jaded in Japan', 'link': '/JadedInJapan/?refid=17&_ft_=qid.-6194702315776278340%3Amf_story_key.3334272023496870%3Atop_level_post_id.3334272023496870%3Atl_objid.3334272023496870%3Acontent_owner_id_new.100007423144773%3Aoriginal_content_id.4651682438265188%3Aoriginal_content_owner_id.301553813278094%3Athrowback_story_fbid.3334272023496870%3Apage_id.301553813278094%3Aphoto_id.4651682288265203%3Astory_location.4%3Aattached_story_attachment_style.photo%3Aott.AX_HRKW4HEzr6dFL%3Asty.22%3Aapp_id.6628568379%3Aattached_story_type.EntStatusCreationStory%3Aattached_story_attachment_type.MediaAttachment%3Apos.1%3Apage_insights.%7B%22301553813278094%22%3A%7B%22page_id%22%3A301553813278094%2C%22page_id_type%22%3A%22page%22%2C%22actor_id%22%3A100007423144773%2C%22attached_story%22%3A%7B%22page_id%22%3A301553813278094%2C%22page_id_type%22%3A%22page%22%2C%22actor_id%22%3A301553813278094%2C%22dm%22%3A%7B%22isShare%22%3A0%2C%22originalPostOwnerID%22%3A0%7D%2C%22psn%22%3A%22EntStatusCreationStory%22%2C%22post_context%22%3A%7B%22object_fbtype%22%3A266%2C%22publish_time%22%3A1654305838%2C%22story_name%22%3A%22EntStatusCreationStory%22%2C%22story_fbid%22%3A%5B4651682438265188%5D%7D%2C%22role%22%3A1%2C%22sl%22%3A4%7D%2C%22dm%22%3A%7B%22isShare%22%3A0%2C%22originalPostOwnerID%22%3A0%7D%2C%22psn%22%3A%22EntStatusCreationStory%22%2C%22role%22%3A1%2C%22sl%22%3A4%2C%22targets%22%3A%5B%7B%22actor_id%22%3A100007423144773%2C%22page_id%22%3A301553813278094%2C%22post_id%22%3A4651682438265188%2C%22role%22%3A1%2C%22share_id%22%3A0%7D%5D%7D%7D%3Aprofile_id.100007423144773%3Aprofile_relationship_type.4%3Aactrs.100007423144773%3Atds_flgs.3%3Athid.100007423144773%3A306061129499414%3A2%3A0%3A1656658799%3A1874053958918377636%3A%3A%3Aftmd_400706.111111l&__tn__=CH-R'}], 'page_id': '301553813278094', 'sharers': None, 'image_id': '4651682288265203', 'image_ids': ['4651682288265203'], 'was_live': False, 'header': 'Bilahari Kausikan'}\n"
     ]
    }
   ],
   "source": [
    "link = []"
   ]
  },
  {
   "cell_type": "code",
   "execution_count": 69,
   "metadata": {},
   "outputs": [
    {
     "name": "stderr",
     "output_type": "stream",
     "text": [
      "/home/zachlim/anaconda3/envs/bilbot/lib/python3.10/site-packages/IPython/core/interactiveshell.py:3397: UserWarning: A low page limit (<=2) might return no results, try increasing the limit\n",
      "  exec(code_obj, self.user_global_ns, self.user_ns)\n",
      "/home/zachlim/anaconda3/envs/bilbot/lib/python3.10/site-packages/facebook_scraper/facebook_scraper.py:857: UserWarning: Facebook says 'Unsupported Browser'\n",
      "  warnings.warn(f\"Facebook says 'Unsupported Browser'\")\n",
      "/home/zachlim/anaconda3/envs/bilbot/lib/python3.10/site-packages/dateparser/date_parser.py:35: PytzUsageWarning: The localize method is no longer necessary, as this time zone supports the fold attribute (PEP 495). For more details on migrating to a PEP 495-compliant implementation, see https://pytz-deprecation-shim.readthedocs.io/en/latest/migration.html\n",
      "  date_obj = stz.localize(date_obj)\n"
     ]
    }
   ],
   "source": [
    "date_time = []\n",
    "link = []\n",
    "text = []\n",
    "\n",
    "for post in get_posts('bilahari.kausikan', pages=2, credentials=(API_USERNAME,API_KEY)):\n",
    "    if post[\"link\"] != None:\n",
    "        date_time.append(post[\"time\"])\n",
    "        link.append(post[\"link\"])\n",
    "        text.append(post[\"text\"])\n",
    "\n",
    "df = pd.DataFrame({\"Time\" : date_time, \"Link\" : link, \"Text\" : text})\n",
    "df[\"Date\"] = df['Time'].dt.date\n",
    "to_send = df[(df['Date'] == dt.datetime.now().date())]\n",
    "\n",
    "msg = '\\n\\n'.join(f\"{i}: {d['Text']} \\n{d['Link']} \" for i,d in to_send.iterrows())"
   ]
  },
  {
   "cell_type": "code",
   "execution_count": 80,
   "metadata": {},
   "outputs": [],
   "source": [
    "preamble = \"Good Morning! Here's your daily dose of Bilahari posts from yesterday\""
   ]
  },
  {
   "cell_type": "code",
   "execution_count": 85,
   "metadata": {},
   "outputs": [],
   "source": [
    "total_msg = preamble + '\\n\\n' + msg"
   ]
  },
  {
   "cell_type": "code",
   "execution_count": 86,
   "metadata": {},
   "outputs": [
    {
     "name": "stdout",
     "output_type": "stream",
     "text": [
      "Good Morning! Here's your daily dose of Bilahari posts from yesterday\n",
      "\n",
      "0: SUPCHINA.COM\n",
      "Beijing wants a million new SMEs – SupChina \n",
      "https://supchina.com/2022/06/07/beijing-wants-a-million-new-smes/?fbclid=IwAR1AauLNIi3EXb-Fcj8Dq_z6h7xfzkbjcoL1_eVbHcMK9nvSoVdTftZqTuU \n",
      "\n",
      "1: NYTIMES.COM\n",
      "Before Chickens Were Nuggets, They Were Revered \n",
      "https://www.nytimes.com/2022/06/07/science/chicken-domestication-origin.html?referringSource=articleShare&fbclid=IwAR0JRiC_rclrVklcpA9dsVUHYVffGFasMBLXW3Yjr5BQYtyed7R8tO10Ub0 \n",
      "\n",
      "2: THEATLANTIC.COM\n",
      "American Rasputin \n",
      "https://www.theatlantic.com/magazine/archive/2022/07/steve-bannon-war-room-democracy-threat/638443/?fbclid=IwAR09f4Yexw_LRJTVpcuWpbopqrTSWU9aTezaW7CXXrKO9V8z8WylvaunJOw \n",
      "\n",
      "3: BLOOMBERG.COM\n",
      "Stagflation Danger Spurs World Bank to Cut Global Growth Outlook \n",
      "https://www.bloomberg.com/news/articles/2022-06-07/stagflation-danger-sees-world-bank-cut-global-growth-outlook?fbclid=IwAR0TeBU6EslHeJR7j18LyvIfBsYwaaOICopsNHdaSNWwhWQ7mo-\\-\\17vZdXY \n",
      "\n",
      "4: WSJ.COM\n",
      "In Russia’s Battle for East Ukraine, Both Sides Have Higher Stakes at Play \n",
      "https://www.wsj.com/articles/in-russias-battle-for-east-ukraine-both-sides-have-higher-stakes-at-play-11654606965?fbclid=IwAR3UR7FxlkavQKC4hD6O2uoPGj-h3mbX7ukSlm-YL7xgtKao7I_K-SXFUDs \n"
     ]
    }
   ],
   "source": [
    "print(total_msg)"
   ]
  },
  {
   "cell_type": "code",
   "execution_count": 14,
   "metadata": {},
   "outputs": [],
   "source": [
    "link = [\"stuff\"]\n",
    "balls = []"
   ]
  },
  {
   "cell_type": "code",
   "execution_count": 16,
   "metadata": {},
   "outputs": [
    {
     "name": "stdout",
     "output_type": "stream",
     "text": [
      "there is stuff\n"
     ]
    }
   ],
   "source": [
    "if link:\n",
    "    print(\"there is stuff\")"
   ]
  },
  {
   "cell_type": "code",
   "execution_count": null,
   "metadata": {},
   "outputs": [],
   "source": []
  }
 ],
 "metadata": {
  "interpreter": {
   "hash": "4bd3e795b5dc9df1e14d6fc1a2a8992267b1cc7b5c0511f5d45d1ea6f67dead3"
  },
  "kernelspec": {
   "display_name": "Python 3.9.7 64-bit ('terminak': conda)",
   "language": "python",
   "name": "python3"
  },
  "language_info": {
   "codemirror_mode": {
    "name": "ipython",
    "version": 3
   },
   "file_extension": ".py",
   "mimetype": "text/x-python",
   "name": "python",
   "nbconvert_exporter": "python",
   "pygments_lexer": "ipython3",
   "version": "3.10.4"
  },
  "orig_nbformat": 4
 },
 "nbformat": 4,
 "nbformat_minor": 2
}
